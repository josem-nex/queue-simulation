{
 "cells": [
  {
   "cell_type": "markdown",
   "metadata": {},
   "source": [
    "# Simulación de las llegadas de las llamadas telefónicas\n",
    "Las llamadas siguen una distribución de Poisson con una tasa media de 20 llamadas por hora. Se desea simular el número de llamadas que se reciben en un intervalo de X horas."
   ]
  },
  {
   "cell_type": "code",
   "execution_count": 2,
   "metadata": {},
   "outputs": [],
   "source": [
    "\n",
    "from simulation import generar_exponencial, simulate_call_center"
   ]
  },
  {
   "cell_type": "code",
   "execution_count": 3,
   "metadata": {},
   "outputs": [
    {
     "name": "stdout",
     "output_type": "stream",
     "text": [
      "15\n"
     ]
    }
   ],
   "source": [
    "import matplotlib.pyplot as plt\n",
    "# import numpy as np\n",
    "llamadas = []\n",
    "for i in range (1000):\n",
    "    llamadas.append(generar_exponencial(3))\n",
    "\n",
    "tiempo = 0\n",
    "for x in range(0, 1000):\n",
    "    tiempo += llamadas[x]\n",
    "    if tiempo > 60:\n",
    "        print(x)\n",
    "        break\n",
    "\n",
    "# comprobar que el promedio por hora es 20"
   ]
  },
  {
   "cell_type": "code",
   "execution_count": 120,
   "metadata": {},
   "outputs": [
    {
     "name": "stdout",
     "output_type": "stream",
     "text": [
      "\n",
      "        Calls: 56\n",
      "        Successful calls: 48\n",
      "        Lost calls: 8\n",
      "        Average call duration: 6.313131062431213\n",
      "        Max call duration: 30.600647992760877\n",
      "        Min call duration: 0.16376484532309085\n",
      "        Total time: 162.90359704374248\n",
      "        Lost money: 1008.0\n",
      "        Employees cost: 576\n",
      "        \n"
     ]
    }
   ],
   "source": [
    "import anal as a\n",
    "\n",
    "employees = 3\n",
    "\n",
    "sim_result = simulate_call_center(180, employees)\n",
    "\n",
    "analize = a.Analizer(sim_result,employees)\n",
    "\n",
    "print(analize)"
   ]
  }
 ],
 "metadata": {
  "kernelspec": {
   "display_name": "Python 3",
   "language": "python",
   "name": "python3"
  },
  "language_info": {
   "codemirror_mode": {
    "name": "ipython",
    "version": 3
   },
   "file_extension": ".py",
   "mimetype": "text/x-python",
   "name": "python",
   "nbconvert_exporter": "python",
   "pygments_lexer": "ipython3",
   "version": "3.10.12"
  }
 },
 "nbformat": 4,
 "nbformat_minor": 2
}
