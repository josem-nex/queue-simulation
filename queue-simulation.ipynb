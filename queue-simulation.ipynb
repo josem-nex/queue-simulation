{
 "cells": [
  {
   "cell_type": "markdown",
   "metadata": {},
   "source": [
    "# Simulación de las llegadas de las llamadas telefónicas\n",
    "Las llamadas siguen una distribución de Poisson con una tasa media de 20 llamadas por hora. Se desea simular el número de llamadas que se reciben en un intervalo de X horas."
   ]
  },
  {
   "cell_type": "code",
   "execution_count": 1,
   "metadata": {},
   "outputs": [],
   "source": [
    "\n",
    "from simulation import generar_exponencial, simulate_call_center"
   ]
  },
  {
   "cell_type": "code",
   "execution_count": 2,
   "metadata": {},
   "outputs": [
    {
     "name": "stdout",
     "output_type": "stream",
     "text": [
      "24\n"
     ]
    }
   ],
   "source": [
    "import matplotlib.pyplot as plt\n",
    "# import numpy as np\n",
    "llamadas = []\n",
    "for i in range (1000):\n",
    "    llamadas.append(generar_exponencial(3))\n",
    "\n",
    "tiempo = 0\n",
    "for x in range(0, 1000):\n",
    "    tiempo += llamadas[x]\n",
    "    if tiempo > 60:\n",
    "        print(x)\n",
    "        break\n",
    "\n",
    "# comprobar que el promedio por hora es 20"
   ]
  },
  {
   "cell_type": "code",
   "execution_count": 3,
   "metadata": {},
   "outputs": [
    {
     "ename": "TypeError",
     "evalue": "Resource.__init__() missing 1 required positional argument: 'env'",
     "output_type": "error",
     "traceback": [
      "\u001b[0;31m---------------------------------------------------------------------------\u001b[0m",
      "\u001b[0;31mTypeError\u001b[0m                                 Traceback (most recent call last)",
      "Cell \u001b[0;32mIn[3], line 1\u001b[0m\n\u001b[0;32m----> 1\u001b[0m \u001b[43msimulate_call_center\u001b[49m\u001b[43m(\u001b[49m\u001b[38;5;241;43m180\u001b[39;49m\u001b[43m,\u001b[49m\u001b[43m \u001b[49m\u001b[38;5;241;43m3\u001b[39;49m\u001b[43m)\u001b[49m\n",
      "File \u001b[0;32m~/queue-simulation/simulation.py:82\u001b[0m, in \u001b[0;36msimulate_call_center\u001b[0;34m(time, operators)\u001b[0m\n\u001b[1;32m     80\u001b[0m \u001b[38;5;28;01mdef\u001b[39;00m \u001b[38;5;21msimulate_call_center\u001b[39m(time: \u001b[38;5;28mint\u001b[39m, operators: \u001b[38;5;28mint\u001b[39m):\n\u001b[1;32m     81\u001b[0m    env \u001b[38;5;241m=\u001b[39m Environment()\n\u001b[0;32m---> 82\u001b[0m    call_center \u001b[38;5;241m=\u001b[39m \u001b[43mCallCenter\u001b[49m\u001b[43m(\u001b[49m\u001b[43menv\u001b[49m\u001b[43m,\u001b[49m\u001b[43m \u001b[49m\u001b[43moperators\u001b[49m\u001b[43m)\u001b[49m\n\u001b[1;32m     83\u001b[0m    env\u001b[38;5;241m.\u001b[39mprocess(call_center\u001b[38;5;241m.\u001b[39mclient_arrivals())\n\u001b[1;32m     84\u001b[0m    env\u001b[38;5;241m.\u001b[39mrun(time)\n",
      "File \u001b[0;32m~/queue-simulation/simulation.py:42\u001b[0m, in \u001b[0;36mCallCenter.__init__\u001b[0;34m(self, env, capacity)\u001b[0m\n\u001b[1;32m     41\u001b[0m \u001b[38;5;28;01mdef\u001b[39;00m \u001b[38;5;21m__init__\u001b[39m(\u001b[38;5;28mself\u001b[39m, env: Environment, capacity: \u001b[38;5;28mint\u001b[39m):\n\u001b[0;32m---> 42\u001b[0m     \u001b[43mResource\u001b[49m\u001b[38;5;241;43m.\u001b[39;49m\u001b[38;5;21;43m__init__\u001b[39;49m\u001b[43m(\u001b[49m\u001b[43menv\u001b[49m\u001b[43m,\u001b[49m\u001b[43m \u001b[49m\u001b[43mcapacity\u001b[49m\u001b[38;5;241;43m=\u001b[39;49m\u001b[43mcapacity\u001b[49m\u001b[43m)\u001b[49m\n",
      "\u001b[0;31mTypeError\u001b[0m: Resource.__init__() missing 1 required positional argument: 'env'"
     ]
    }
   ],
   "source": [
    "simulate_call_center(180, 3)"
   ]
  }
 ],
 "metadata": {
  "kernelspec": {
   "display_name": "Python 3",
   "language": "python",
   "name": "python3"
  },
  "language_info": {
   "codemirror_mode": {
    "name": "ipython",
    "version": 3
   },
   "file_extension": ".py",
   "mimetype": "text/x-python",
   "name": "python",
   "nbconvert_exporter": "python",
   "pygments_lexer": "ipython3",
   "version": "3.10.12"
  }
 },
 "nbformat": 4,
 "nbformat_minor": 2
}
